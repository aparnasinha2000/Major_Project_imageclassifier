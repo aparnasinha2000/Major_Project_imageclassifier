{
  "nbformat": 4,
  "nbformat_minor": 0,
  "metadata": {
    "colab": {
      "name": "dogsvscats.ipynb",
      "provenance": []
    },
    "kernelspec": {
      "name": "python3",
      "display_name": "Python 3"
    }
  },
  "cells": [
    {
      "cell_type": "code",
      "metadata": {
        "colab": {
          "base_uri": "https://localhost:8080/"
        },
        "id": "AddJD37ZEOj-",
        "outputId": "bc247516-d840-474f-e5b8-957ff300fac8"
      },
      "source": [
        "import os\n",
        "os.environ['KAGGLE_USERNAME'] = \"aparnasinha\" # username from the json file\n",
        "os.environ['KAGGLE_KEY'] = \"03a1ebed87a01da9f6fd0633c1537781\" # key from the json file\n",
        "!kaggle competitions download -c dogs-vs-cats # api copied from kaggle"
      ],
      "execution_count": 4,
      "outputs": [
        {
          "output_type": "stream",
          "text": [
            "Warning: Looks like you're using an outdated API Version, please consider updating (server 1.5.9 / client 1.5.4)\n",
            "Downloading train.zip to /content\n",
            " 97% 527M/543M [00:02<00:00, 167MB/s]\n",
            "100% 543M/543M [00:03<00:00, 188MB/s]\n",
            "Downloading sampleSubmission.csv to /content\n",
            "  0% 0.00/86.8k [00:00<?, ?B/s]\n",
            "100% 86.8k/86.8k [00:00<00:00, 87.9MB/s]\n",
            "Downloading test1.zip to /content\n",
            "100% 271M/271M [00:01<00:00, 202MB/s]\n",
            "100% 271M/271M [00:01<00:00, 170MB/s]\n"
          ],
          "name": "stdout"
        }
      ]
    },
    {
      "cell_type": "code",
      "metadata": {
        "colab": {
          "base_uri": "https://localhost:8080/"
        },
        "id": "9CmPKgbKEs1k",
        "outputId": "fc8fa7bd-7c48-4949-b1f0-d2afbc4b0917"
      },
      "source": [
        "# Upload data\n",
        "from zipfile import ZipFile\n",
        "\n",
        "file_name = \"/content/train.zip\"\n",
        "\n",
        "with ZipFile(file_name, 'r') as zip:\n",
        "  zip.extractall()\n",
        "  print('done')"
      ],
      "execution_count": 5,
      "outputs": [
        {
          "output_type": "stream",
          "text": [
            "done\n"
          ],
          "name": "stdout"
        }
      ]
    },
    {
      "cell_type": "code",
      "metadata": {
        "colab": {
          "base_uri": "https://localhost:8080/"
        },
        "id": "PjGwCc1IE-RW",
        "outputId": "ea530873-315e-4ad0-9fea-e8026bba7ca4"
      },
      "source": [
        "data_dir_list = os.listdir('/content/train')\n",
        "#print(data_dir_list)\n",
        "\n",
        "path, dirs, files = next(os.walk(\"/content/train\"))\n",
        "file_count = len(files)\n",
        "print(file_count)"
      ],
      "execution_count": 6,
      "outputs": [
        {
          "output_type": "stream",
          "text": [
            "25000\n"
          ],
          "name": "stdout"
        }
      ]
    },
    {
      "cell_type": "code",
      "metadata": {
        "id": "X4C13dXOFNEV"
      },
      "source": [
        "original_dataset_dir = '/content/train'\n",
        "base_dir = '/content/cats_and_dogs_small'\n",
        "os.mkdir(base_dir)"
      ],
      "execution_count": 7,
      "outputs": []
    },
    {
      "cell_type": "code",
      "metadata": {
        "id": "rOoAldcYFnP3"
      },
      "source": [
        "train_dir = os.path.join(base_dir, 'train')\n",
        "os.mkdir(train_dir)\n",
        "\n",
        "validation_dir = os.path.join(base_dir, 'validation')\n",
        "os.mkdir(validation_dir)\n",
        "\n",
        "test_dir = os.path.join(base_dir, 'test')\n",
        "os.mkdir(test_dir)\n",
        "\n",
        "train_cats_dir = os.path.join(train_dir, 'cats')\n",
        "os.mkdir(train_cats_dir)\n",
        "\n",
        "train_dogs_dir = os.path.join(train_dir, 'dogs')\n",
        "os.mkdir(train_dogs_dir)\n",
        "\n",
        "validation_cats_dir = os.path.join(validation_dir, 'cats')\n",
        "os.mkdir(validation_cats_dir)\n",
        "\n",
        "validation_dogs_dir = os.path.join(validation_dir, 'dogs')\n",
        "os.mkdir(validation_dogs_dir)\n",
        "\n",
        "test_cats_dir = os.path.join(test_dir, 'cats')\n",
        "os.mkdir(test_cats_dir)\n",
        "\n",
        "test_dogs_dir = os.path.join(test_dir, 'dogs')\n",
        "os.mkdir(test_dogs_dir)"
      ],
      "execution_count": 8,
      "outputs": []
    },
    {
      "cell_type": "code",
      "metadata": {
        "id": "jF10HsIPFpD_"
      },
      "source": [
        "\n",
        "import shutil\n",
        "fnames = ['cat.{}.jpg'.format(i) for i in range(1000)]\n",
        "for fname in fnames:\n",
        "    src = os.path.join(original_dataset_dir, fname)\n",
        "    dst = os.path.join(train_cats_dir, fname)\n",
        "    #print(src,dst)\n",
        "    shutil.copyfile(src, dst)\n",
        "    \n",
        "fnames = ['cat.{}.jpg'.format(i) for i in range(1000, 1500)]\n",
        "for fname in fnames:\n",
        "    src = os.path.join(original_dataset_dir, fname)\n",
        "    dst = os.path.join(validation_cats_dir, fname)\n",
        "    shutil.copyfile(src, dst)\n",
        "\n",
        "fnames = ['cat.{}.jpg'.format(i) for i in range(1500, 2000)]\n",
        "for fname in fnames:\n",
        "    src = os.path.join(original_dataset_dir, fname)\n",
        "    dst = os.path.join(test_cats_dir, fname)\n",
        "    shutil.copyfile(src, dst)\n",
        "    \n",
        "fnames = ['dog.{}.jpg'.format(i) for i in range(1000)]\n",
        "for fname in fnames:\n",
        "    src = os.path.join(original_dataset_dir, fname)\n",
        "    dst = os.path.join(train_dogs_dir, fname)\n",
        "    shutil.copyfile(src, dst)\n",
        "\n",
        "fnames = ['dog.{}.jpg'.format(i) for i in range(1000, 1500)]\n",
        "for fname in fnames:\n",
        "    src = os.path.join(original_dataset_dir, fname)\n",
        "    dst = os.path.join(validation_dogs_dir, fname)\n",
        "    shutil.copyfile(src, dst)\n",
        "\n",
        "fnames = ['dog.{}.jpg'.format(i) for i in range(1500, 2000)]\n",
        "for fname in fnames:\n",
        "    src = os.path.join(original_dataset_dir, fname)\n",
        "    dst = os.path.join(test_dogs_dir, fname)\n",
        "    shutil.copyfile(src, dst)"
      ],
      "execution_count": 9,
      "outputs": []
    },
    {
      "cell_type": "code",
      "metadata": {
        "colab": {
          "base_uri": "https://localhost:8080/"
        },
        "id": "P_S0DRrLF0iE",
        "outputId": "4d45e607-d588-4810-cc39-3c7c37740579"
      },
      "source": [
        "print('total training cat images:', len(os.listdir(train_cats_dir)))\n",
        "print('total training dog images:', len(os.listdir(train_dogs_dir)))\n",
        "print('total validation cat images:', len(os.listdir(validation_cats_dir)))\n",
        "\n",
        "print('total validation dog images:', len(os.listdir(validation_dogs_dir)))\n",
        "print('total test cat images:', len(os.listdir(test_cats_dir)))\n",
        "print('total test dog images:', len(os.listdir(test_dogs_dir)))"
      ],
      "execution_count": 10,
      "outputs": [
        {
          "output_type": "stream",
          "text": [
            "total training cat images: 1000\n",
            "total training dog images: 1000\n",
            "total validation cat images: 500\n",
            "total validation dog images: 500\n",
            "total test cat images: 500\n",
            "total test dog images: 500\n"
          ],
          "name": "stdout"
        }
      ]
    },
    {
      "cell_type": "code",
      "metadata": {
        "colab": {
          "base_uri": "https://localhost:8080/"
        },
        "id": "0nK5WkFuGmtT",
        "outputId": "7fb45715-9214-414c-8933-6f31c8ea7f8f"
      },
      "source": [
        "from keras import layers\n",
        "from keras import models\n",
        "\n",
        "model = models.Sequential()\n",
        "model.add(layers.Conv2D(32, (3, 3), activation='relu', input_shape=(150, 150, 3)))\n",
        "model.add(layers.MaxPooling2D((2, 2)))\n",
        "model.add(layers.Conv2D(64, (3, 3), activation='relu'))\n",
        "model.add(layers.MaxPooling2D((2, 2)))\n",
        "model.add(layers.Conv2D(128, (3, 3), activation='relu'))\n",
        "model.add(layers.MaxPooling2D((2, 2)))\n",
        "model.add(layers.Conv2D(128, (3, 3), activation='relu'))\n",
        "model.add(layers.MaxPooling2D((2, 2)))\n",
        "model.add(layers.Flatten())\n",
        "model.add(layers.Dense(512, activation='relu'))\n",
        "model.add(layers.Dense(1, activation='sigmoid'))\n",
        "model.summary()"
      ],
      "execution_count": 11,
      "outputs": [
        {
          "output_type": "stream",
          "text": [
            "Model: \"sequential\"\n",
            "_________________________________________________________________\n",
            "Layer (type)                 Output Shape              Param #   \n",
            "=================================================================\n",
            "conv2d (Conv2D)              (None, 148, 148, 32)      896       \n",
            "_________________________________________________________________\n",
            "max_pooling2d (MaxPooling2D) (None, 74, 74, 32)        0         \n",
            "_________________________________________________________________\n",
            "conv2d_1 (Conv2D)            (None, 72, 72, 64)        18496     \n",
            "_________________________________________________________________\n",
            "max_pooling2d_1 (MaxPooling2 (None, 36, 36, 64)        0         \n",
            "_________________________________________________________________\n",
            "conv2d_2 (Conv2D)            (None, 34, 34, 128)       73856     \n",
            "_________________________________________________________________\n",
            "max_pooling2d_2 (MaxPooling2 (None, 17, 17, 128)       0         \n",
            "_________________________________________________________________\n",
            "conv2d_3 (Conv2D)            (None, 15, 15, 128)       147584    \n",
            "_________________________________________________________________\n",
            "max_pooling2d_3 (MaxPooling2 (None, 7, 7, 128)         0         \n",
            "_________________________________________________________________\n",
            "flatten (Flatten)            (None, 6272)              0         \n",
            "_________________________________________________________________\n",
            "dense (Dense)                (None, 512)               3211776   \n",
            "_________________________________________________________________\n",
            "dense_1 (Dense)              (None, 1)                 513       \n",
            "=================================================================\n",
            "Total params: 3,453,121\n",
            "Trainable params: 3,453,121\n",
            "Non-trainable params: 0\n",
            "_________________________________________________________________\n"
          ],
          "name": "stdout"
        }
      ]
    },
    {
      "cell_type": "code",
      "metadata": {
        "id": "L7otkdVQGtV5"
      },
      "source": [
        "from keras import optimizers\n",
        "model.compile(loss='binary_crossentropy', \n",
        "              optimizer=optimizers.RMSprop(lr=1e-4),\n",
        "              metrics=['acc'])"
      ],
      "execution_count": 12,
      "outputs": []
    },
    {
      "cell_type": "code",
      "metadata": {
        "colab": {
          "base_uri": "https://localhost:8080/"
        },
        "id": "EXsKGhHfG3yM",
        "outputId": "ddbc2117-5922-4dba-be81-a31ea71bcd24"
      },
      "source": [
        "from keras.preprocessing.image import ImageDataGenerator\n",
        "\n",
        "train_datagen = ImageDataGenerator(rescale=1./255)\n",
        "test_datagen = ImageDataGenerator(rescale=1./255)\n",
        "\n",
        "train_generator = train_datagen.flow_from_directory(train_dir,\n",
        "                                                    target_size=(150, 150), \n",
        "                                                    batch_size=20,\n",
        "                                                    class_mode='binary')\n",
        "\n",
        "validation_generator = test_datagen.flow_from_directory(validation_dir,\n",
        "                                                        target_size=(150, 150),\n",
        "                                                        batch_size=20,\n",
        "                                                        class_mode='binary')"
      ],
      "execution_count": 13,
      "outputs": [
        {
          "output_type": "stream",
          "text": [
            "Found 2000 images belonging to 2 classes.\n",
            "Found 1000 images belonging to 2 classes.\n"
          ],
          "name": "stdout"
        }
      ]
    },
    {
      "cell_type": "code",
      "metadata": {
        "colab": {
          "base_uri": "https://localhost:8080/"
        },
        "id": "L_VQyVgBG6Mn",
        "outputId": "2833f350-c1ee-487b-dd46-10c66845b855"
      },
      "source": [
        "history = model.fit_generator(train_generator,\n",
        "                              steps_per_epoch=100,\n",
        "                              epochs=30,\n",
        "                              validation_data=validation_generator,\n",
        "                              validation_steps=10)"
      ],
      "execution_count": 14,
      "outputs": [
        {
          "output_type": "stream",
          "text": [
            "WARNING:tensorflow:From <ipython-input-14-e50fa6d58364>:5: Model.fit_generator (from tensorflow.python.keras.engine.training) is deprecated and will be removed in a future version.\n",
            "Instructions for updating:\n",
            "Please use Model.fit, which supports generators.\n",
            "Epoch 1/30\n",
            "100/100 [==============================] - 96s 961ms/step - loss: 0.6904 - acc: 0.5255 - val_loss: 0.6659 - val_acc: 0.6300\n",
            "Epoch 2/30\n",
            "100/100 [==============================] - 95s 954ms/step - loss: 0.6661 - acc: 0.5980 - val_loss: 0.6569 - val_acc: 0.5600\n",
            "Epoch 3/30\n",
            "100/100 [==============================] - 99s 988ms/step - loss: 0.6247 - acc: 0.6500 - val_loss: 0.6610 - val_acc: 0.6200\n",
            "Epoch 4/30\n",
            "100/100 [==============================] - 98s 983ms/step - loss: 0.5723 - acc: 0.6945 - val_loss: 0.6171 - val_acc: 0.6450\n",
            "Epoch 5/30\n",
            "100/100 [==============================] - 102s 1s/step - loss: 0.5428 - acc: 0.7130 - val_loss: 0.5992 - val_acc: 0.6800\n",
            "Epoch 6/30\n",
            "100/100 [==============================] - 98s 983ms/step - loss: 0.5210 - acc: 0.7435 - val_loss: 0.5615 - val_acc: 0.6850\n",
            "Epoch 7/30\n",
            "100/100 [==============================] - 98s 978ms/step - loss: 0.4878 - acc: 0.7685 - val_loss: 0.5420 - val_acc: 0.7400\n",
            "Epoch 8/30\n",
            "100/100 [==============================] - 99s 991ms/step - loss: 0.4623 - acc: 0.7710 - val_loss: 0.5581 - val_acc: 0.7400\n",
            "Epoch 9/30\n",
            "100/100 [==============================] - 101s 1s/step - loss: 0.4380 - acc: 0.7945 - val_loss: 0.5351 - val_acc: 0.7000\n",
            "Epoch 10/30\n",
            "100/100 [==============================] - 98s 976ms/step - loss: 0.4115 - acc: 0.8170 - val_loss: 0.5099 - val_acc: 0.7200\n",
            "Epoch 11/30\n",
            "100/100 [==============================] - 102s 1s/step - loss: 0.3869 - acc: 0.8160 - val_loss: 0.5419 - val_acc: 0.7250\n",
            "Epoch 12/30\n",
            "100/100 [==============================] - 98s 977ms/step - loss: 0.3620 - acc: 0.8520 - val_loss: 0.5612 - val_acc: 0.7250\n",
            "Epoch 13/30\n",
            "100/100 [==============================] - 96s 959ms/step - loss: 0.3347 - acc: 0.8565 - val_loss: 0.5968 - val_acc: 0.7200\n",
            "Epoch 14/30\n",
            "100/100 [==============================] - 96s 957ms/step - loss: 0.3165 - acc: 0.8650 - val_loss: 0.7557 - val_acc: 0.6500\n",
            "Epoch 15/30\n",
            "100/100 [==============================] - 100s 997ms/step - loss: 0.2912 - acc: 0.8820 - val_loss: 0.6143 - val_acc: 0.7000\n",
            "Epoch 16/30\n",
            "100/100 [==============================] - 100s 998ms/step - loss: 0.2740 - acc: 0.8910 - val_loss: 0.5098 - val_acc: 0.7800\n",
            "Epoch 17/30\n",
            "100/100 [==============================] - 96s 960ms/step - loss: 0.2508 - acc: 0.9005 - val_loss: 0.8551 - val_acc: 0.6550\n",
            "Epoch 18/30\n",
            "100/100 [==============================] - 99s 990ms/step - loss: 0.2265 - acc: 0.9100 - val_loss: 0.7876 - val_acc: 0.6400\n",
            "Epoch 19/30\n",
            "100/100 [==============================] - 97s 968ms/step - loss: 0.2052 - acc: 0.9240 - val_loss: 0.5712 - val_acc: 0.7200\n",
            "Epoch 20/30\n",
            "100/100 [==============================] - 96s 963ms/step - loss: 0.1894 - acc: 0.9285 - val_loss: 0.6934 - val_acc: 0.7250\n",
            "Epoch 21/30\n",
            "100/100 [==============================] - 99s 991ms/step - loss: 0.1685 - acc: 0.9390 - val_loss: 0.9199 - val_acc: 0.6450\n",
            "Epoch 22/30\n",
            "100/100 [==============================] - 101s 1s/step - loss: 0.1529 - acc: 0.9455 - val_loss: 0.7403 - val_acc: 0.7150\n",
            "Epoch 23/30\n",
            "100/100 [==============================] - 98s 981ms/step - loss: 0.1365 - acc: 0.9525 - val_loss: 0.7258 - val_acc: 0.7350\n",
            "Epoch 24/30\n",
            "100/100 [==============================] - 99s 986ms/step - loss: 0.1133 - acc: 0.9595 - val_loss: 0.6751 - val_acc: 0.7150\n",
            "Epoch 25/30\n",
            "100/100 [==============================] - 98s 985ms/step - loss: 0.1024 - acc: 0.9730 - val_loss: 0.8058 - val_acc: 0.6900\n",
            "Epoch 26/30\n",
            "100/100 [==============================] - 97s 970ms/step - loss: 0.0912 - acc: 0.9720 - val_loss: 0.7885 - val_acc: 0.7100\n",
            "Epoch 27/30\n",
            "100/100 [==============================] - 97s 966ms/step - loss: 0.0752 - acc: 0.9820 - val_loss: 1.0746 - val_acc: 0.7050\n",
            "Epoch 28/30\n",
            "100/100 [==============================] - 103s 1s/step - loss: 0.0723 - acc: 0.9785 - val_loss: 0.9359 - val_acc: 0.7200\n",
            "Epoch 29/30\n",
            "100/100 [==============================] - 97s 970ms/step - loss: 0.0583 - acc: 0.9835 - val_loss: 0.8636 - val_acc: 0.7400\n",
            "Epoch 30/30\n",
            "100/100 [==============================] - 96s 964ms/step - loss: 0.0526 - acc: 0.9835 - val_loss: 1.3532 - val_acc: 0.6950\n"
          ],
          "name": "stdout"
        }
      ]
    },
    {
      "cell_type": "code",
      "metadata": {
        "colab": {
          "base_uri": "https://localhost:8080/",
          "height": 545
        },
        "id": "pqwXT2rzSilx",
        "outputId": "e0432460-eab0-4dce-9892-67ed2740c2aa"
      },
      "source": [
        "model.save('cats_and_dogs_small_1.h5')\n",
        "\n",
        "import matplotlib.pyplot as plt\n",
        "\n",
        "acc = history.history['acc']\n",
        "val_acc = history.history['val_acc']\n",
        "loss = history.history['loss']\n",
        "val_loss = history.history['val_loss']\n",
        "\n",
        "epochs = range(1, len(acc) + 1)\n",
        "\n",
        "plt.plot(epochs, acc, 'bo', label='Training acc')\n",
        "plt.plot(epochs, val_acc, 'b', label='Validation acc')\n",
        "plt.title('Training and validation accuracy')\n",
        "plt.legend()\n",
        "\n",
        "plt.figure()\n",
        "\n",
        "plt.plot(epochs, loss, 'bo', label='Training loss')\n",
        "plt.plot(epochs, val_loss, 'b', label='Validation loss')\n",
        "plt.title('Training and validation loss')\n",
        "plt.legend()\n",
        "\n",
        "plt.show()"
      ],
      "execution_count": 15,
      "outputs": [
        {
          "output_type": "display_data",
          "data": {
            "image/png": "[encoded data removed]",
            "text/plain": [
              "<Figure size 432x288 with 1 Axes>"
            ]
          },
          "metadata": {
            "tags": [],
            "needs_background": "light"
          }
        },
        {
          "output_type": "display_data",
          "data": {
            "image/png": "[encoded data removed]",
            "text/plain": [
              "<Figure size 432x288 with 1 Axes>"
            ]
          },
          "metadata": {
            "tags": [],
            "needs_background": "light"
          }
        }
      ]
    },
    {
      "cell_type": "code",
      "metadata": {
        "id": "lPGG8JX4SyWq"
      },
      "source": [
        "model = models.Sequential()\n",
        "model.add(layers.Conv2D(32, (3, 3), activation='relu',\n",
        "input_shape=(150, 150, 3)))\n",
        "model.add(layers.MaxPooling2D((2, 2)))\n",
        "model.add(layers.Conv2D(64, (3, 3), activation='relu'))\n",
        "model.add(layers.MaxPooling2D((2, 2)))\n",
        "model.add(layers.Conv2D(128, (3, 3), activation='relu'))\n",
        "model.add(layers.MaxPooling2D((2, 2)))\n",
        "model.add(layers.Conv2D(128, (3, 3), activation='relu'))\n",
        "model.add(layers.MaxPooling2D((2, 2)))\n",
        "model.add(layers.Flatten())\n",
        "model.add(layers.Dropout(0.5))\n",
        "model.add(layers.Dense(512, activation='relu'))\n",
        "model.add(layers.Dense(1, activation='sigmoid'))\n",
        "\n",
        "model.compile(loss='binary_crossentropy',\n",
        "              optimizer=optimizers.RMSprop(lr=1e-4),\n",
        "              metrics=['acc'])"
      ],
      "execution_count": 19,
      "outputs": []
    },
    {
      "cell_type": "code",
      "metadata": {
        "colab": {
          "base_uri": "https://localhost:8080/"
        },
        "id": "5F4tMqgZWpcO",
        "outputId": "81ee4f65-efe0-413c-fa8e-c8e1c2c621b2"
      },
      "source": [
        "train_datagen = ImageDataGenerator(rescale=1./255,\n",
        "                                   rotation_range=40,\n",
        "                                   width_shift_range=0.2,\n",
        "                                   height_shift_range=0.2,\n",
        "                                   shear_range=0.2,\n",
        "                                   zoom_range=0.2,\n",
        "                                   horizontal_flip=True,)\n",
        "\n",
        "test_datagen = ImageDataGenerator(rescale=1./255)\n",
        "\n",
        "train_generator = train_datagen.flow_from_directory(train_dir,\n",
        "                                                    target_size=(150, 150),\n",
        "                                                    batch_size=32,\n",
        "                                                    class_mode='binary')\n",
        "\n",
        "validation_generator = test_datagen.flow_from_directory(validation_dir,\n",
        "                                                        target_size=(150, 150),\n",
        "                                                        batch_size=32,\n",
        "                                                        class_mode='binary')\n",
        "\n",
        "history = model.fit_generator(train_generator,\n",
        "                              steps_per_epoch=50,\n",
        "                              epochs=40,\n",
        "                              validation_data=validation_generator,\n",
        "                              validation_steps=50)\n"
      ],
      "execution_count": 22,
      "outputs": [
        {
          "output_type": "stream",
          "text": [
            "Found 2000 images belonging to 2 classes.\n",
            "Found 1000 images belonging to 2 classes.\n",
            "Epoch 1/40\n",
            "50/50 [==============================] - ETA: 0s - loss: 0.6799 - acc: 0.5574WARNING:tensorflow:Your input ran out of data; interrupting training. Make sure that your dataset or generator can generate at least `steps_per_epoch * epochs` batches (in this case, 50 batches). You may need to use the repeat() function when building your dataset.\n",
            "50/50 [==============================] - 93s 2s/step - loss: 0.6799 - acc: 0.5574 - val_loss: 0.6610 - val_acc: 0.6010\n",
            "Epoch 2/40\n",
            "50/50 [==============================] - 79s 2s/step - loss: 0.6733 - acc: 0.5814\n",
            "Epoch 3/40\n",
            "50/50 [==============================] - 78s 2s/step - loss: 0.6576 - acc: 0.6010\n",
            "Epoch 4/40\n",
            "50/50 [==============================] - 82s 2s/step - loss: 0.6527 - acc: 0.5896\n",
            "Epoch 5/40\n",
            "50/50 [==============================] - 79s 2s/step - loss: 0.6482 - acc: 0.6149\n",
            "Epoch 6/40\n",
            "50/50 [==============================] - 84s 2s/step - loss: 0.6374 - acc: 0.6332\n",
            "Epoch 7/40\n",
            "50/50 [==============================] - 78s 2s/step - loss: 0.6335 - acc: 0.6389\n",
            "Epoch 8/40\n",
            "50/50 [==============================] - 78s 2s/step - loss: 0.6181 - acc: 0.6503\n",
            "Epoch 9/40\n",
            "50/50 [==============================] - 84s 2s/step - loss: 0.6179 - acc: 0.6597\n",
            "Epoch 10/40\n",
            "50/50 [==============================] - 79s 2s/step - loss: 0.6016 - acc: 0.6755\n",
            "Epoch 11/40\n",
            "50/50 [==============================] - 79s 2s/step - loss: 0.5890 - acc: 0.6862\n",
            "Epoch 12/40\n",
            "50/50 [==============================] - 79s 2s/step - loss: 0.5988 - acc: 0.6755\n",
            "Epoch 13/40\n",
            "50/50 [==============================] - 80s 2s/step - loss: 0.5821 - acc: 0.6932\n",
            "Epoch 14/40\n",
            "50/50 [==============================] - 79s 2s/step - loss: 0.6047 - acc: 0.6730\n",
            "Epoch 15/40\n",
            "50/50 [==============================] - 79s 2s/step - loss: 0.5838 - acc: 0.6994\n",
            "Epoch 16/40\n",
            "50/50 [==============================] - 78s 2s/step - loss: 0.5813 - acc: 0.6989\n",
            "Epoch 17/40\n",
            "50/50 [==============================] - 80s 2s/step - loss: 0.5627 - acc: 0.7134\n",
            "Epoch 18/40\n",
            "50/50 [==============================] - 80s 2s/step - loss: 0.5731 - acc: 0.7056\n",
            "Epoch 19/40\n",
            "50/50 [==============================] - 82s 2s/step - loss: 0.5805 - acc: 0.6913\n",
            "Epoch 20/40\n",
            "50/50 [==============================] - 79s 2s/step - loss: 0.5665 - acc: 0.6906\n",
            "Epoch 21/40\n",
            "50/50 [==============================] - 80s 2s/step - loss: 0.5619 - acc: 0.7033\n",
            "Epoch 22/40\n",
            "50/50 [==============================] - 78s 2s/step - loss: 0.5408 - acc: 0.7330\n",
            "Epoch 23/40\n",
            "50/50 [==============================] - 78s 2s/step - loss: 0.5642 - acc: 0.7014\n",
            "Epoch 24/40\n",
            "50/50 [==============================] - 78s 2s/step - loss: 0.5613 - acc: 0.7033\n",
            "Epoch 25/40\n",
            "50/50 [==============================] - 79s 2s/step - loss: 0.5533 - acc: 0.7045\n",
            "Epoch 26/40\n",
            "50/50 [==============================] - 78s 2s/step - loss: 0.5445 - acc: 0.7279\n",
            "Epoch 27/40\n",
            "50/50 [==============================] - 82s 2s/step - loss: 0.5546 - acc: 0.7109\n",
            "Epoch 28/40\n",
            "50/50 [==============================] - 78s 2s/step - loss: 0.5501 - acc: 0.7096\n",
            "Epoch 29/40\n",
            "50/50 [==============================] - 79s 2s/step - loss: 0.5485 - acc: 0.7266\n",
            "Epoch 30/40\n",
            "50/50 [==============================] - 78s 2s/step - loss: 0.5356 - acc: 0.7159\n",
            "Epoch 31/40\n",
            "50/50 [==============================] - 78s 2s/step - loss: 0.5342 - acc: 0.7393\n",
            "Epoch 32/40\n",
            "50/50 [==============================] - 78s 2s/step - loss: 0.5337 - acc: 0.7260\n",
            "Epoch 33/40\n",
            "50/50 [==============================] - 79s 2s/step - loss: 0.5231 - acc: 0.7337\n",
            "Epoch 34/40\n",
            "50/50 [==============================] - 81s 2s/step - loss: 0.5268 - acc: 0.7475\n",
            "Epoch 35/40\n",
            "50/50 [==============================] - 78s 2s/step - loss: 0.5390 - acc: 0.7279\n",
            "Epoch 36/40\n",
            "50/50 [==============================] - 78s 2s/step - loss: 0.5262 - acc: 0.7374\n",
            "Epoch 37/40\n",
            "50/50 [==============================] - 78s 2s/step - loss: 0.5270 - acc: 0.7374\n",
            "Epoch 38/40\n",
            "50/50 [==============================] - 79s 2s/step - loss: 0.5176 - acc: 0.7513\n",
            "Epoch 39/40\n",
            "50/50 [==============================] - 78s 2s/step - loss: 0.5178 - acc: 0.7298\n",
            "Epoch 40/40\n",
            "50/50 [==============================] - 78s 2s/step - loss: 0.5223 - acc: 0.7330\n"
          ],
          "name": "stdout"
        }
      ]
    }
  ]
}